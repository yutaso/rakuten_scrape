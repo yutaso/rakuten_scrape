{
 "cells": [
  {
   "cell_type": "markdown",
   "metadata": {},
   "source": [
    "## 楽天ホテル宿泊レビュー プレミアムアノテーション 旧selenium版"
   ]
  },
  {
   "cell_type": "markdown",
   "metadata": {},
   "source": [
    "事前準備：https://googlechromelabs.github.io/chrome-for-testing/#stable\n",
    "\n",
    "上記のサイト(chrome driver)から該当するドライバー(要解凍)をこのプログラムと同じフォルダに入れる(windowsならchromedriver\twin64)"
   ]
  },
  {
   "cell_type": "code",
   "execution_count": 1,
   "metadata": {},
   "outputs": [],
   "source": [
    "from selenium import webdriver\n",
    "from time import sleep\n",
    "import time\n",
    "import pandas as pd"
   ]
  },
  {
   "cell_type": "code",
   "execution_count": 2,
   "metadata": {},
   "outputs": [],
   "source": [
    "def search_premium(url):\n",
    "    try:\n",
    "        driver = webdriver.Chrome('chromedriver')\n",
    "        driver.get(url)\n",
    "        time.sleep(2)\n",
    "        search_bar = driver.find_element_by_class_name(\"tag-wrapper\")\n",
    "        rth_name_area = driver.find_element_by_id('RthNameArea')\n",
    "        # 'RthNameArea'内のclassが'tag-wrapper'の要素を取得\n",
    "        tag_wrapper = rth_name_area.find_element_by_class_name('tag-wrapper')\n",
    "        # 'tag-wrapper'内のclassが'premium_icon'の要素を取得\n",
    "        premium_icon = tag_wrapper.find_element_by_class_name('premium_icon')\n",
    "        # 'premium_icon'内のimg要素を取得\n",
    "        img_element = premium_icon.find_element_by_tag_name('img')\n",
    "        # img要素からsrc属性の値を取得\n",
    "        src_value = img_element.get_attribute('src')\n",
    "        # src属性の値から'premium_ultra.svg'を抽出\n",
    "        file_name = src_value.split('/')[-1]\n",
    "        #print(f'抽出されたファイル名: {file_name}')\n",
    "        driver.close()\n",
    "    except Exception as e:\n",
    "        # エラーが発生した場合（premium_iconが見つからなかった場合）\n",
    "        #print(f'エラー: {e}')\n",
    "        file_name = 'no'\n",
    "        #print(file_name)\n",
    "        driver.close()\n",
    "    return file_name\n"
   ]
  },
  {
   "cell_type": "code",
   "execution_count": 3,
   "metadata": {},
   "outputs": [],
   "source": [
    "#入力ファイルをここで指定\n",
    "df=pd.read_csv('over100.csv', index_col=None)"
   ]
  },
  {
   "cell_type": "code",
   "execution_count": 4,
   "metadata": {},
   "outputs": [
    {
     "name": "stdout",
     "output_type": "stream",
     "text": [
      "103\n",
      "premium_ultra.svg\n",
      "108\n"
     ]
    },
    {
     "name": "stderr",
     "output_type": "stream",
     "text": [
      "C:\\Users\\yuta\\AppData\\Local\\Continuum\\anaconda3\\lib\\site-packages\\ipykernel_launcher.py:8: SettingWithCopyWarning: \n",
      "A value is trying to be set on a copy of a slice from a DataFrame\n",
      "\n",
      "See the caveats in the documentation: https://pandas.pydata.org/pandas-docs/stable/user_guide/indexing.html#returning-a-view-versus-a-copy\n",
      "  \n"
     ]
    },
    {
     "name": "stdout",
     "output_type": "stream",
     "text": [
      "premium_normal.svg\n",
      "109\n",
      "premium_normal.svg\n",
      "111\n",
      "premium_normal.svg\n",
      "114\n",
      "no\n",
      "115\n",
      "no\n",
      "121\n",
      "no\n",
      "124\n",
      "no\n",
      "153\n",
      "no\n",
      "164\n",
      "premium_normal.svg\n"
     ]
    }
   ],
   "source": [
    "#お試し用\n",
    "df['premium_rank']=str(0)\n",
    "for i in range(10):\n",
    "    hotel_id = df['施設ID'][i]\n",
    "    print(hotel_id)\n",
    "    premium=search_premium('https://travel.rakuten.co.jp/HOTEL/'+str(hotel_id)+'/'+str(hotel_id)+'.html')\n",
    "    print(premium)\n",
    "    df['premium_rank'][i]=premium\n"
   ]
  },
  {
   "cell_type": "code",
   "execution_count": 73,
   "metadata": {},
   "outputs": [
    {
     "data": {
      "text/html": [
       "<div>\n",
       "<style scoped>\n",
       "    .dataframe tbody tr th:only-of-type {\n",
       "        vertical-align: middle;\n",
       "    }\n",
       "\n",
       "    .dataframe tbody tr th {\n",
       "        vertical-align: top;\n",
       "    }\n",
       "\n",
       "    .dataframe thead th {\n",
       "        text-align: right;\n",
       "    }\n",
       "</style>\n",
       "<table border=\"1\" class=\"dataframe\">\n",
       "  <thead>\n",
       "    <tr style=\"text-align: right;\">\n",
       "      <th></th>\n",
       "      <th>Unnamed: 0</th>\n",
       "      <th>施設ID</th>\n",
       "      <th>レビュー数</th>\n",
       "      <th>施設名</th>\n",
       "      <th>premium_rank</th>\n",
       "    </tr>\n",
       "  </thead>\n",
       "  <tbody>\n",
       "    <tr>\n",
       "      <th>0</th>\n",
       "      <td>1</td>\n",
       "      <td>103</td>\n",
       "      <td>340</td>\n",
       "      <td>リーガロイヤルホテル</td>\n",
       "      <td>premium_ultra.svg</td>\n",
       "    </tr>\n",
       "    <tr>\n",
       "      <th>1</th>\n",
       "      <td>24</td>\n",
       "      <td>108</td>\n",
       "      <td>172</td>\n",
       "      <td>リーガロイヤルホテル京都</td>\n",
       "      <td>premium_normal.svg</td>\n",
       "    </tr>\n",
       "    <tr>\n",
       "      <th>2</th>\n",
       "      <td>35</td>\n",
       "      <td>109</td>\n",
       "      <td>259</td>\n",
       "      <td>リーガロイヤルホテル広島</td>\n",
       "      <td>premium_normal.svg</td>\n",
       "    </tr>\n",
       "    <tr>\n",
       "      <th>3</th>\n",
       "      <td>46</td>\n",
       "      <td>111</td>\n",
       "      <td>104</td>\n",
       "      <td>リーガロイヤルホテル小倉</td>\n",
       "      <td>premium_normal.svg</td>\n",
       "    </tr>\n",
       "    <tr>\n",
       "      <th>4</th>\n",
       "      <td>60</td>\n",
       "      <td>114</td>\n",
       "      <td>142</td>\n",
       "      <td>ホテル京阪　天満橋</td>\n",
       "      <td>no</td>\n",
       "    </tr>\n",
       "    <tr>\n",
       "      <th>...</th>\n",
       "      <td>...</td>\n",
       "      <td>...</td>\n",
       "      <td>...</td>\n",
       "      <td>...</td>\n",
       "      <td>...</td>\n",
       "    </tr>\n",
       "    <tr>\n",
       "      <th>1026</th>\n",
       "      <td>493</td>\n",
       "      <td>172633</td>\n",
       "      <td>117</td>\n",
       "      <td>グリーンリッチホテル久留米　天然温泉六ツ門の湯　（２０１９年４月２５日グランドオープン）</td>\n",
       "      <td>0</td>\n",
       "    </tr>\n",
       "    <tr>\n",
       "      <th>1027</th>\n",
       "      <td>494</td>\n",
       "      <td>172659</td>\n",
       "      <td>119</td>\n",
       "      <td>天然温泉　さんさの湯　ドーミーイン盛岡（２０１９年４月１６日プレオープン）</td>\n",
       "      <td>0</td>\n",
       "    </tr>\n",
       "    <tr>\n",
       "      <th>1028</th>\n",
       "      <td>495</td>\n",
       "      <td>172891</td>\n",
       "      <td>112</td>\n",
       "      <td>アートホテル大分</td>\n",
       "      <td>0</td>\n",
       "    </tr>\n",
       "    <tr>\n",
       "      <th>1029</th>\n",
       "      <td>497</td>\n",
       "      <td>173106</td>\n",
       "      <td>111</td>\n",
       "      <td>イージーステイ大宮</td>\n",
       "      <td>0</td>\n",
       "    </tr>\n",
       "    <tr>\n",
       "      <th>1030</th>\n",
       "      <td>506</td>\n",
       "      <td>177521</td>\n",
       "      <td>142</td>\n",
       "      <td>ホテル中央　ブリッジ</td>\n",
       "      <td>0</td>\n",
       "    </tr>\n",
       "  </tbody>\n",
       "</table>\n",
       "<p>1031 rows × 5 columns</p>\n",
       "</div>"
      ],
      "text/plain": [
       "      Unnamed: 0    施設ID  レビュー数                                           施設名  \\\n",
       "0              1     103    340                                    リーガロイヤルホテル   \n",
       "1             24     108    172                                  リーガロイヤルホテル京都   \n",
       "2             35     109    259                                  リーガロイヤルホテル広島   \n",
       "3             46     111    104                                  リーガロイヤルホテル小倉   \n",
       "4             60     114    142                                     ホテル京阪　天満橋   \n",
       "...          ...     ...    ...                                           ...   \n",
       "1026         493  172633    117  グリーンリッチホテル久留米　天然温泉六ツ門の湯　（２０１９年４月２５日グランドオープン）   \n",
       "1027         494  172659    119         天然温泉　さんさの湯　ドーミーイン盛岡（２０１９年４月１６日プレオープン）   \n",
       "1028         495  172891    112                                      アートホテル大分   \n",
       "1029         497  173106    111                                     イージーステイ大宮   \n",
       "1030         506  177521    142                                    ホテル中央　ブリッジ   \n",
       "\n",
       "            premium_rank  \n",
       "0      premium_ultra.svg  \n",
       "1     premium_normal.svg  \n",
       "2     premium_normal.svg  \n",
       "3     premium_normal.svg  \n",
       "4                     no  \n",
       "...                  ...  \n",
       "1026                   0  \n",
       "1027                   0  \n",
       "1028                   0  \n",
       "1029                   0  \n",
       "1030                   0  \n",
       "\n",
       "[1031 rows x 5 columns]"
      ]
     },
     "execution_count": 73,
     "metadata": {},
     "output_type": "execute_result"
    }
   ],
   "source": [
    "df"
   ]
  },
  {
   "cell_type": "code",
   "execution_count": null,
   "metadata": {},
   "outputs": [],
   "source": [
    "#本番用\n",
    "for i in range(df['施設ID']):\n",
    "    hotel_id = df['施設ID'][i]\n",
    "    print(hotel_id)\n",
    "    premium=search_premium('https://travel.rakuten.co.jp/HOTEL/'+str(hotel_id)+'/'+str(hotel_id)+'.html')\n",
    "    print(premium)\n",
    "    df['premium_rank'][i]=premium"
   ]
  },
  {
   "cell_type": "code",
   "execution_count": 75,
   "metadata": {},
   "outputs": [],
   "source": [
    "df.to_csv('./output.csv', index=False)"
   ]
  },
  {
   "cell_type": "code",
   "execution_count": null,
   "metadata": {},
   "outputs": [],
   "source": []
  }
 ],
 "metadata": {
  "kernelspec": {
   "display_name": "Python 3",
   "language": "python",
   "name": "python3"
  },
  "language_info": {
   "codemirror_mode": {
    "name": "ipython",
    "version": 3
   },
   "file_extension": ".py",
   "mimetype": "text/x-python",
   "name": "python",
   "nbconvert_exporter": "python",
   "pygments_lexer": "ipython3",
   "version": "3.7.1"
  }
 },
 "nbformat": 4,
 "nbformat_minor": 4
}
